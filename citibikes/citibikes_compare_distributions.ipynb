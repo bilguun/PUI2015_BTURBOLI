{
 "cells": [
  {
   "cell_type": "markdown",
   "metadata": {
    "collapsed": true
   },
   "source": [
    "#Assignment 1:\n",
    "    test if the distribution of ages is the same for \n",
    "    \n",
    "    1) male and femal riders\n",
    "    \n",
    "    2) day and night riders\n",
    "    \n",
    "    use 3 tests: KS, Pearson's, Spearman's"
   ]
  },
  {
   "cell_type": "markdown",
   "metadata": {},
   "source": [
    "my usual imports and setups"
   ]
  },
  {
   "cell_type": "code",
   "execution_count": 2,
   "metadata": {
    "collapsed": false,
    "scrolled": true
   },
   "outputs": [
    {
     "name": "stdout",
     "output_type": "stream",
     "text": [
      "Populating the interactive namespace from numpy and matplotlib\n"
     ]
    }
   ],
   "source": [
    "import pylab as pl\n",
    "import pandas as pd\n",
    "import numpy as np\n",
    "%pylab inline\n",
    "\n",
    "import os\n",
    "\n",
    "#this makes my plots pretty! but it is totally not mandatory to do it\n",
    "import json\n",
    "# s = json.load( open(os.getenv ('PUI2015')+\"/fbb_matplotlibrc.json\") )\n",
    "# pl.rcParams.update(s)\n"
   ]
  },
  {
   "cell_type": "markdown",
   "metadata": {},
   "source": [
    "I am reading in data from January 2015. It would be a good idea to use data from warmer months, since there are more riders in the warm weather and the more data the smaller the STATISTICAL NOISE. If you are ambitios you can use data from multiple months, thus addressing systematic errors as well"
   ]
  },
  {
   "cell_type": "code",
   "execution_count": 3,
   "metadata": {
    "collapsed": false,
    "scrolled": false
   },
   "outputs": [
    {
     "name": "stdout",
     "output_type": "stream",
     "text": [
      "Index([u'tripduration', u'starttime', u'stoptime', u'start station id',\n",
      "       u'start station name', u'start station latitude',\n",
      "       u'start station longitude', u'end station id', u'end station name',\n",
      "       u'end station latitude', u'end station longitude', u'bikeid',\n",
      "       u'usertype', u'birth year', u'gender'],\n",
      "      dtype='object')\n"
     ]
    }
   ],
   "source": [
    "# df=pd.read_csv(os.getenv ('PUI2015')+'/notebooks/data/201501-citibike-tripdata.csv')\n",
    "df=pd.read_csv('201502-citibike-tripdata.csv', parse_dates=['starttime'])\n",
    "print df.columns"
   ]
  },
  {
   "cell_type": "markdown",
   "metadata": {},
   "source": [
    "#BY GENDER\n",
    "splitting data by gender and extracting the age happens in the cell below"
   ]
  },
  {
   "cell_type": "code",
   "execution_count": 5,
   "metadata": {
    "collapsed": true
   },
   "outputs": [],
   "source": [
    "#df is the dataframe where the content of the csv file is stored\n",
    "df['ageM'] = 2015-df['birth year'][(df['usertype'] == 'Subscriber') & (df['gender'] == 1)]\n",
    "df['ageF'] = 2015-df['birth year'][(df['usertype'] == 'Subscriber') & (df['gender'] == 2)]"
   ]
  },
  {
   "cell_type": "markdown",
   "metadata": {},
   "source": [
    "lets splot age in 10 year bins. the dataset is very large, so i could be split in smaller bins, but I will chose 10 years in the interest of time. if i was to do this \"for real\" the bin size choice should be a balance between properly sample the age space, have enough counts in each bin that the statistical noise is not significant (remember that is > sqrt(N)!) and the computational requirement to computatinal facilities ratio. "
   ]
  },
  {
   "cell_type": "markdown",
   "metadata": {},
   "source": [
    "the next several steps are needed if you want to code up the KS test from scratch. that is for extra credit, so if you do not want to do it you may not need to plot split the distribution in bins and create the cumulative HOWEVER it is a great idea to do it anyways to explore your data viaually! remember Ascombe's quartet!!"
   ]
  },
  {
   "cell_type": "code",
   "execution_count": 6,
   "metadata": {
    "collapsed": false
   },
   "outputs": [
    {
     "data": {
      "text/plain": [
       "<matplotlib.axes._subplots.AxesSubplot at 0x120be6a0>"
      ]
     },
     "execution_count": 6,
     "metadata": {},
     "output_type": "execute_result"
    },
    {
     "data": {
      "image/png": "[encoded data removed]",
      "text/plain": [
       "<matplotlib.figure.Figure at 0x11791748>"
      ]
     },
     "metadata": {},
     "output_type": "display_data"
    },
    {
     "data": {
      "image/png": "[encoded data removed]",
      "text/plain": [
       "<matplotlib.figure.Figure at 0x11791d30>"
      ]
     },
     "metadata": {},
     "output_type": "display_data"
    }
   ],
   "source": [
    "bins = np.arange(10, 99, 10)\n",
    "df.ageM.groupby(pd.cut(df.ageM, bins)).agg([count_nonzero]).plot(kind='bar')\n",
    "df.ageF.groupby(pd.cut(df.ageF, bins)).agg([count_nonzero]).plot(kind='bar')"
   ]
  },
  {
   "cell_type": "markdown",
   "metadata": {},
   "source": [
    "this is how the cumulative distributions look like.  Notice that i am normalizing them! if i want to reat an observed distribution like a probablility distribution i have to normalize it"
   ]
  },
  {
   "cell_type": "code",
   "execution_count": 7,
   "metadata": {
    "collapsed": false,
    "scrolled": false
   },
   "outputs": [
    {
     "name": "stdout",
     "output_type": "stream",
     "text": [
      "          count_nonzero\n",
      "ageM                   \n",
      "(10, 20]       0.002160\n",
      "(20, 30]       0.052312\n",
      "(30, 40]       0.044676\n",
      "(40, 50]       0.012573\n",
      "(50, 60]       0.008436\n",
      "(60, 70]       0.003543\n",
      "(70, 80]       0.000207\n",
      "(80, 90]       0.000000\n"
     ]
    },
    {
     "data": {
      "text/plain": [
       "<matplotlib.legend.Legend at 0xbb47198>"
      ]
     },
     "execution_count": 7,
     "metadata": {},
     "output_type": "execute_result"
    },
    {
     "data": {
      "image/png": "[encoded data removed]",
      "text/plain": [
       "<matplotlib.figure.Figure at 0xbb9f9e8>"
      ]
     },
     "metadata": {},
     "output_type": "display_data"
    }
   ],
   "source": [
    "#print df.ageS, df.ageS.cumsum()\n",
    "\n",
    "csM=df.ageM.groupby(pd.cut(df.ageM, bins)).agg([count_nonzero]).cumsum()\n",
    "\n",
    "csF=df.ageF.groupby(pd.cut(df.ageF, bins)).agg([count_nonzero]).cumsum()\n",
    "\n",
    "print np.abs(csM / csM.max()-csF / csF.max())\n",
    "\n",
    "pl.plot(bins[:-1] + 5, csM / csM.max(), label = \"M\")\n",
    "pl.plot(bins[:-1] + 5, csF / csF.max(), label = \"F\")\n",
    "pl.legend()"
   ]
  },
  {
   "cell_type": "markdown",
   "metadata": {},
   "source": [
    "they look pretty darn similar! that sets my expectation for the tests to come. if i wanted to code the KS test by hand i woud have everything i need: the normalized cumulative distributions can be subtracted from each other and the max distance can be seeked. \n",
    "\n",
    "Notice that there amay be Nan values you are gonna have to deal with! you can do that for example with a Boolean statementsuch as  df.ageF[~np.isnan(df.ageF)] or you can use numpy functions that deal with Nan values: nansum, nanmean, nanstd..."
   ]
  },
  {
   "cell_type": "markdown",
   "metadata": {},
   "source": [
    "lets run the scipy KS test"
   ]
  },
  {
   "cell_type": "code",
   "execution_count": 8,
   "metadata": {
    "collapsed": false,
    "scrolled": false
   },
   "outputs": [],
   "source": [
    "import scipy.stats"
   ]
  },
  {
   "cell_type": "markdown",
   "metadata": {
    "collapsed": true
   },
   "source": [
    "#KS tests to compare 2 samples\n",
    "\n",
    "http://docs.scipy.org/doc/scipy-0.15.1/reference/generated/scipy.stats.ks_2samp.html\n"
   ]
  },
  {
   "cell_type": "code",
   "execution_count": 9,
   "metadata": {
    "collapsed": false
   },
   "outputs": [
    {
     "name": "stdout",
     "output_type": "stream",
     "text": [
      "Ks_2sampResult(statistic=0.65250088864063371, pvalue=0.0)\n"
     ]
    }
   ],
   "source": [
    "ks=scipy.stats.ks_2samp(df.ageM, df.ageF)\n",
    "print ks"
   ]
  },
  {
   "cell_type": "markdown",
   "metadata": {},
   "source": [
    "remember: the Null hypothesis is rejected if \n",
    "\n",
    "$D_KS(n1,n2) > c(\\alpha) \\sqrt{\\frac{(n1+n2)}{n1n2}}$\n",
    "\n",
    "where $c(\\alpha$) is the inverse of the KS distribution, and you do not have to know how to get that cause there are tables that list critical values!! \n",
    "\n",
    "http://www.real-statistics.com/tests-normality-and-symmetry/statistical-tests-normality-symmetry/kolmogorov-smirnov-test/kolmogorov-distribution/\n",
    "\n",
    "but scipy is already giving you the p-value, s you do not have to worry about it i am still giving you the table FWI and if you want to do the coding of the KS test by hand\n"
   ]
  },
  {
   "cell_type": "code",
   "execution_count": 10,
   "metadata": {
    "collapsed": false
   },
   "outputs": [
    {
     "data": {
      "image/png": "[encoded data removed]",
      "text/plain": [
       "<IPython.core.display.Image object>"
      ]
     },
     "execution_count": 10,
     "metadata": {},
     "output_type": "execute_result"
    }
   ],
   "source": [
    "#here is the critical values tablel. Have you chosen your significance level yet?? you should do it first thing!\n",
    "from IPython.display import Image\n",
    "Image(filename=\"ks2sample_table.png\")"
   ]
  },
  {
   "cell_type": "code",
   "execution_count": 12,
   "metadata": {
    "collapsed": false
   },
   "outputs": [
    {
     "name": "stdout",
     "output_type": "stream",
     "text": [
      "161561 33064\n",
      "is the ks value 0.65 greater than the critical value 0.02? \n",
      "Yes!\n",
      "the Null hypothesis is rejected. Two samples are not drawn from the same continuous distribution.\n"
     ]
    }
   ],
   "source": [
    "##this cell is for you to tell me what the scipy KS test returned and what it means\n",
    "# we fail to reject the Null hypothesis\n",
    "n1 = df.ageM[~np.isnan(df.ageM)].count()\n",
    "n2 = df.ageF[~np.isnan(df.ageF)].count()\n",
    "print n1, n2\n",
    "# for 0.05 significance level\n",
    "calpha = 1.36 \n",
    "calphan1n2 = 1.0 * calpha * sqrt((n1+n2)*1.0/(n1*n2))\n",
    "\n",
    "def report_result(ks,calphan1n2):\n",
    "    print 'is the ks value {0:.2f} greater than the critical value {1:.2f}? '.format(ks,calphan1n2)\n",
    "    if ks>calphan1n2:\n",
    "        print \"Yes!\"\n",
    "    else: print \"No!\"\n",
    "    \n",
    "    print 'the Null hypothesis is {}'.format( 'rejected. Two samples are not drawn from the same continuous distribution.' if ks>calphan1n2  else 'not rejected. Two samples are drawn from the same continuous distribution.') \n",
    "    \n",
    "report_result(ks.statistic,calphan1n2)"
   ]
  },
  {
   "cell_type": "markdown",
   "metadata": {},
   "source": [
    "#Pearson's  test for correlation\n",
    "\n",
    "http://docs.scipy.org/doc/scipy/reference/generated/scipy.stats.pearsonr.html#scipy.stats.pearsonr\n",
    "\n"
   ]
  },
  {
   "cell_type": "code",
   "execution_count": 13,
   "metadata": {
    "collapsed": false
   },
   "outputs": [
    {
     "name": "stdout",
     "output_type": "stream",
     "text": [
      "(0.0034705153828280461, 0.5280146847553977)\n",
      "Since Pearson’s correlation coefficient is close to 0, there is no linear relationship\n"
     ]
    }
   ],
   "source": [
    "#please perform the Pearson's test and tell me what you find\n",
    "\n",
    "ageM = df.ageM[~np.isnan(df.ageM)]\n",
    "ageF = df.ageF[~np.isnan(df.ageF)]\n",
    "# print ageM.count()\n",
    "# print ageF.count()\n",
    "\n",
    "if ageM.count() != ageF.count():\n",
    "    if ageM.count() > ageF.count():\n",
    "        rows = np.random.choice(ageM.index.values, ageF.count())\n",
    "        ageM = ageM.ix[rows]\n",
    "    else:\n",
    "        rows = np.random.choice(ageF.index.values, ageM.count())\n",
    "        ageF = ageF.ix[rows]\n",
    "\n",
    "# print ageM.count()\n",
    "pearsont = scipy.stats.pearsonr(ageM, ageF)\n",
    "print pearsont\n",
    "\n",
    "print \"Since Pearson’s correlation coefficient is close to 0, there is no linear relationship\""
   ]
  },
  {
   "cell_type": "markdown",
   "metadata": {},
   "source": [
    "#Spearman's  test for correlation\n",
    "\n",
    "http://docs.scipy.org/doc/scipy/reference/generated/scipy.stats.spearmanr.html#scipy.stats.spearmanr"
   ]
  },
  {
   "cell_type": "code",
   "execution_count": 14,
   "metadata": {
    "collapsed": false
   },
   "outputs": [
    {
     "name": "stdout",
     "output_type": "stream",
     "text": [
      "SpearmanrResult(correlation=0.0048213354169799405, pvalue=0.38067138780976606)\n"
     ]
    }
   ],
   "source": [
    "from scipy.stats import spearmanr\n",
    "#please perform the Spearman's test and tell me what you find\n",
    "spearmanstest = spearmanr(ageM, ageF,axis=0)\n",
    "print spearmanstest"
   ]
  },
  {
   "cell_type": "markdown",
   "metadata": {},
   "source": [
    "##please comment on the numbers that you get in the light of the scipy manual: what is rerutned? what does it mean??"
   ]
  },
  {
   "cell_type": "markdown",
   "metadata": {},
   "source": [
    "##DO THE SAME FOR THE DISTRIBUTION OF RIDERS DURING THE DAY VS DURING THE NIGHT!\n",
    "\n",
    "hint: remember how I converted the starttime last time in my own citibikes notebook into units that are easy to read. \n",
    "df['mystarttime'] = ...\n",
    "then you can use something like\n",
    "df['mystarttime'].dt.hour"
   ]
  },
  {
   "cell_type": "code",
   "execution_count": 24,
   "metadata": {
    "collapsed": false
   },
   "outputs": [],
   "source": [
    "\n",
    "# I selected febraury. \n",
    "# Sunrise was approximatially around 6.0 am in febraury 2015\n",
    "# Sunset was approximatially around 6.0 pm in febraury 2015\n",
    "\n",
    "#df is the dataframe where the content of the csv file is stored\n",
    "df['ageD'] = 2015-df['birth year'][(df['usertype'] == 'Subscriber') & (df['starttime'].dt.hour >= 6) & (df['starttime'].dt.hour <= 18)]\n",
    "ageD = df.ageD[~np.isnan(df.ageD)]\n",
    "\n",
    "df['ageN'] = 2015-df['birth year'][(df['usertype'] == 'Subscriber') & ((df['starttime'].dt.hour <= 6) | (df['starttime'].dt.hour >= 18))]\n",
    "ageN = df.ageN[~np.isnan(df.ageN)]\n"
   ]
  },
  {
   "cell_type": "code",
   "execution_count": 25,
   "metadata": {
    "collapsed": false
   },
   "outputs": [
    {
     "data": {
      "text/plain": [
       "<matplotlib.axes._subplots.AxesSubplot at 0xbba8630>"
      ]
     },
     "execution_count": 25,
     "metadata": {},
     "output_type": "execute_result"
    },
    {
     "data": {
      "image/png": "[encoded data removed]",
      "text/plain": [
       "<matplotlib.figure.Figure at 0xbe4f518>"
      ]
     },
     "metadata": {},
     "output_type": "display_data"
    },
    {
     "data": {
      "image/png": "[encoded data removed]",
      "text/plain": [
       "<matplotlib.figure.Figure at 0x11cd06d8>"
      ]
     },
     "metadata": {},
     "output_type": "display_data"
    }
   ],
   "source": [
    "bins = np.arange(10, 99, 10)\n",
    "ageD.groupby(pd.cut(ageD, bins)).agg([count_nonzero]).plot(kind='bar')\n",
    "ageN.groupby(pd.cut(ageN, bins)).agg([count_nonzero]).plot(kind='bar')"
   ]
  },
  {
   "cell_type": "code",
   "execution_count": 26,
   "metadata": {
    "collapsed": false
   },
   "outputs": [
    {
     "name": "stdout",
     "output_type": "stream",
     "text": [
      "          count_nonzero\n",
      "ageD                   \n",
      "(10, 20]       0.001794\n",
      "(20, 30]       0.064450\n",
      "(30, 40]       0.077689\n",
      "(40, 50]       0.045864\n",
      "(50, 60]       0.014951\n",
      "(60, 70]       0.002387\n",
      "(70, 80]       0.000028\n",
      "(80, 90]       0.000000\n"
     ]
    },
    {
     "data": {
      "text/plain": [
       "<matplotlib.legend.Legend at 0x12bbb940>"
      ]
     },
     "execution_count": 26,
     "metadata": {},
     "output_type": "execute_result"
    },
    {
     "data": {
      "image/png": "[encoded data removed]",
      "text/plain": [
       "<matplotlib.figure.Figure at 0x11ab7f28>"
      ]
     },
     "metadata": {},
     "output_type": "display_data"
    }
   ],
   "source": [
    "#print df.ageS, df.ageS.cumsum()\n",
    "\n",
    "csD=ageD.groupby(pd.cut(ageD, bins)).agg([count_nonzero]).cumsum()\n",
    "\n",
    "csN=ageN.groupby(pd.cut(ageN, bins)).agg([count_nonzero]).cumsum()\n",
    "\n",
    "print np.abs(csD / csD.max()-csN / csN.max())\n",
    "\n",
    "pl.plot(bins[:-1] + 5, csM / csD.max(), label = \"M\")\n",
    "pl.plot(bins[:-1] + 5, csF / csN.max(), label = \"F\")\n",
    "pl.legend()"
   ]
  },
  {
   "cell_type": "code",
   "execution_count": 27,
   "metadata": {
    "collapsed": false
   },
   "outputs": [
    {
     "name": "stdout",
     "output_type": "stream",
     "text": [
      "Ks_2sampResult(statistic=0.084966081153647899, pvalue=2.4444806502658188e-277)\n"
     ]
    }
   ],
   "source": [
    "ks=scipy.stats.ks_2samp(ageD, ageN)\n",
    "print ks"
   ]
  },
  {
   "cell_type": "code",
   "execution_count": 28,
   "metadata": {
    "collapsed": false
   },
   "outputs": [
    {
     "data": {
      "image/png": "[encoded data removed]",
      "text/plain": [
       "<IPython.core.display.Image object>"
      ]
     },
     "execution_count": 28,
     "metadata": {},
     "output_type": "execute_result"
    }
   ],
   "source": [
    "from IPython.display import Image\n",
    "Image(filename=\"ks2sample_table.png\")"
   ]
  },
  {
   "cell_type": "markdown",
   "metadata": {},
   "source": [
    "# KS tests to compare 2 samples"
   ]
  },
  {
   "cell_type": "code",
   "execution_count": 29,
   "metadata": {
    "collapsed": false
   },
   "outputs": [
    {
     "name": "stdout",
     "output_type": "stream",
     "text": [
      "156179 61472\n",
      "is the ks value 0.08 greater than the critical value 0.02? \n",
      "Yes!\n",
      "the Null hypothesis is rejected. Two samples are not drawn from the same continuous distribution.\n"
     ]
    }
   ],
   "source": [
    "n1 = ageD.count()\n",
    "n2 = ageN.count()\n",
    "print n1, n2\n",
    "# for 0.05 significance level\n",
    "calpha = 1.36 \n",
    "calphan1n2 = calpha * sqrt((n1+n2)*1.0/(n1*n2))\n",
    "\n",
    "report_result(ks.statistic,calphan1n2)"
   ]
  },
  {
   "cell_type": "markdown",
   "metadata": {},
   "source": [
    "# Pearson's test for correlation"
   ]
  },
  {
   "cell_type": "code",
   "execution_count": 30,
   "metadata": {
    "collapsed": false
   },
   "outputs": [
    {
     "name": "stdout",
     "output_type": "stream",
     "text": [
      "(-0.006427330026138425, 0.11103749318218115)\n"
     ]
    }
   ],
   "source": [
    "#please perform the Pearson's test and tell me what you find\n",
    "# print ageD.count()\n",
    "# print ageN.count()\n",
    "\n",
    "# print ageD.index.values\n",
    "if ageD.count() != ageN.count():\n",
    "    if ageD.count() > ageN.count():\n",
    "        rows = np.random.choice(ageD.index.values, ageN.count())\n",
    "        ageD = ageD.ix[rows]\n",
    "    else:\n",
    "        rows = np.random.choice(ageN.index.values, ageD.count())\n",
    "        ageN = ageN.ix[rows]\n",
    "\n",
    "# print ageDR.count()\n",
    "# print ageN.count()\n",
    "\n",
    "pearsont = scipy.stats.pearsonr(ageD, ageN)\n",
    "print pearsont\n",
    "\n",
    "# print \"Since Pearson’s correlation coefficient is close to 0, there is no linear relationship\""
   ]
  },
  {
   "cell_type": "markdown",
   "metadata": {
    "collapsed": true
   },
   "source": [
    "# Spearman's test for correlation# "
   ]
  },
  {
   "cell_type": "code",
   "execution_count": 31,
   "metadata": {
    "collapsed": false
   },
   "outputs": [
    {
     "name": "stdout",
     "output_type": "stream",
     "text": [
      "SpearmanrResult(correlation=0.0048213354169799405, pvalue=0.38067138780976606)\n"
     ]
    }
   ],
   "source": [
    "from scipy.stats import spearmanr\n",
    "#please perform the Spearman's test and tell me what you find\n",
    "spearmanstest = spearmanr(ageM, ageF,axis=0)\n",
    "print spearmanstest"
   ]
  },
  {
   "cell_type": "code",
   "execution_count": null,
   "metadata": {
    "collapsed": true
   },
   "outputs": [],
   "source": []
  }
 ],
 "metadata": {
  "kernelspec": {
   "display_name": "Python 2",
   "language": "python",
   "name": "python2"
  },
  "language_info": {
   "codemirror_mode": {
    "name": "ipython",
    "version": 2
   },
   "file_extension": ".py",
   "mimetype": "text/x-python",
   "name": "python",
   "nbconvert_exporter": "python",
   "pygments_lexer": "ipython2",
   "version": "2.7.10"
  }
 },
 "nbformat": 4,
 "nbformat_minor": 0
}
