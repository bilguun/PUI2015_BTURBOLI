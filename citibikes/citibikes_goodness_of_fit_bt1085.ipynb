{
 "cells": [
  {
   "cell_type": "code",
   "execution_count": 1,
   "metadata": {
    "collapsed": false
   },
   "outputs": [
    {
     "name": "stdout",
     "output_type": "stream",
     "text": [
      "Populating the interactive namespace from numpy and matplotlib\n"
     ]
    }
   ],
   "source": [
    "import pylab as pl\n",
    "import pandas as pd\n",
    "import numpy as np\n",
    "%pylab inline\n",
    "\n",
    "import os\n",
    "import scipy.stats"
   ]
  },
  {
   "cell_type": "code",
   "execution_count": 2,
   "metadata": {
    "collapsed": false
   },
   "outputs": [
    {
     "name": "stdout",
     "output_type": "stream",
     "text": [
      "Index([u'tripduration', u'starttime', u'stoptime', u'start station id',\n",
      "       u'start station name', u'start station latitude',\n",
      "       u'start station longitude', u'end station id', u'end station name',\n",
      "       u'end station latitude', u'end station longitude', u'bikeid',\n",
      "       u'usertype', u'birth year', u'gender'],\n",
      "      dtype='object')\n"
     ]
    }
   ],
   "source": [
    "W_frames = [pd.read_csv('201412-citibike-tripdata.csv'), \n",
    "          pd.read_csv('201501-citibike-tripdata.csv'), \n",
    "          pd.read_csv('201502-citibike-tripdata.csv')]\n",
    "\n",
    "df_W = pd.concat(W_frames, ignore_index=True)\n",
    "\n",
    "S_frames = [pd.read_csv('201506-citibike-tripdata.csv'), \n",
    "          pd.read_csv('201507-citibike-tripdata.csv'), \n",
    "          pd.read_csv('201508-citibike-tripdata.csv')]\n",
    "\n",
    "df_S = pd.concat(S_frames, ignore_index=True)\n",
    "\n",
    "\n",
    "print df_W.columns"
   ]
  },
  {
   "cell_type": "markdown",
   "metadata": {},
   "source": [
    "# Lets first test for All the Riders"
   ]
  },
  {
   "cell_type": "code",
   "execution_count": 16,
   "metadata": {
    "collapsed": false
   },
   "outputs": [],
   "source": [
    "# frames = [ ]\n",
    "df_All = pd.concat([df_W, df_S], ignore_index=True)"
   ]
  },
  {
   "cell_type": "code",
   "execution_count": 17,
   "metadata": {
    "collapsed": false
   },
   "outputs": [
    {
     "data": {
      "image/png": "[encoded data removed]",
      "text/plain": [
       "<matplotlib.figure.Figure at 0x38a5ee80>"
      ]
     },
     "metadata": {},
     "output_type": "display_data"
    }
   ],
   "source": [
    "df_All['age'] = 2015-df_All['birth year'][(df_All['usertype'] == 'Subscriber')]\n",
    "df_All['age'] = df_All['age'][~np.isnan(df_All['age'])]\n",
    "\n",
    "bins = np.arange(10, 99, 10)\n",
    "df_All.age.groupby(pd.cut(df_All.age, bins)).agg([count_nonzero]).plot(kind='bar', title=\"All Riders (Winter + Summer)\")\n",
    "All_age_dist = df_All.age.groupby(pd.cut(df_All.age, bins)).agg([count_nonzero])\n",
    "\n"
   ]
  },
  {
   "cell_type": "markdown",
   "metadata": {},
   "source": [
    "# I chose significane aplha as 0.05 or 5% for following Anderson Darling and Chisquare test \n",
    "# AD test for goodnes of fit"
   ]
  },
  {
   "cell_type": "code",
   "execution_count": 18,
   "metadata": {
    "collapsed": false
   },
   "outputs": [
    {
     "name": "stdout",
     "output_type": "stream",
     "text": [
      "All riders on normal AndersonResult(statistic=0.49381167377011437, critical_values=array([ 0.519,  0.591,  0.709,  0.827,  0.984]), significance_level=array([ 15. ,  10. ,   5. ,   2.5,   1. ]))\n"
     ]
    }
   ],
   "source": [
    "ad_All = scipy.stats.anderson(All_age_dist['count_nonzero'],'norm')\n",
    "print \"All riders on normal\", ad_All"
   ]
  },
  {
   "cell_type": "code",
   "execution_count": 22,
   "metadata": {
    "collapsed": false
   },
   "outputs": [
    {
     "name": "stdout",
     "output_type": "stream",
     "text": [
      "All riders on normal AD test statistics : 0.49381167377\n",
      "it is greater less than critical value at 5% significange level : 0.709\n",
      "Hence our All the riders distribution follows normal/gausion distribution. We fail to reject NULL hypothesis\n"
     ]
    }
   ],
   "source": [
    "# Since we chosen alpha as 0.05\n",
    "# our critical value is\n",
    "print \"All riders on normal AD test statistics :\", ad_All[0]\n",
    "print \"it is greater less than critical value at 5% significange level :\", ad_All[1][2]\n",
    "print \"Hence our All the riders distribution follows normal/gausion distribution. We fail to reject NULL hypothesis\""
   ]
  },
  {
   "cell_type": "markdown",
   "metadata": {},
   "source": [
    "# Shapi-Wilk Test"
   ]
  },
  {
   "cell_type": "code",
   "execution_count": 24,
   "metadata": {
    "collapsed": false
   },
   "outputs": [
    {
     "name": "stdout",
     "output_type": "stream",
     "text": [
      "All riders on normal (0.8589597940444946, 0.11723995953798294)\n"
     ]
    }
   ],
   "source": [
    "sh_All = scipy.stats.shapiro(All_age_dist['count_nonzero'], a=None, reta=False)\n",
    "print \"All riders on normal\", sh_All"
   ]
  },
  {
   "cell_type": "code",
   "execution_count": 25,
   "metadata": {
    "collapsed": false
   },
   "outputs": [
    {
     "name": "stdout",
     "output_type": "stream",
     "text": [
      "All riders on normal Shapiro test statistics' p value is:  11.7239959538 %\n",
      " P value is greater than 5%\n",
      "Hence our all riders distribution follows normal/gausion distribution. We fail to reject NULL hypothesis\n"
     ]
    }
   ],
   "source": [
    "# Since we chosen alpha as 0.05 - 5%\n",
    "# our critical value is\n",
    "print \"All riders on normal Shapiro test statistics' p value is: \", sh_All[1]*100,\"%\"\n",
    "print \" P value is greater than 5%\"\n",
    "print \"Hence our all riders distribution follows normal/gausion distribution. We fail to reject NULL hypothesis\""
   ]
  },
  {
   "cell_type": "markdown",
   "metadata": {},
   "source": [
    "# KS test"
   ]
  },
  {
   "cell_type": "code",
   "execution_count": 26,
   "metadata": {
    "collapsed": false
   },
   "outputs": [
    {
     "name": "stdout",
     "output_type": "stream",
     "text": [
      "All, normal fit KstestResult(statistic=1.0, pvalue=0.0)\n",
      "All, normal fit KstestResult(statistic=0.9999997198790086, pvalue=0.0)\n"
     ]
    }
   ],
   "source": [
    "#compare to normal\n",
    "\n",
    "ksAll=scipy.stats.kstest(All_age_dist, 'norm')\n",
    "print \"All, normal fit\", ksAll\n",
    "\n",
    "#compare to poisson \n",
    "\n",
    "ksAll=scipy.stats.kstest(All_age_dist, 'cauchy')\n",
    "print \"All, normal fit\", ksAll"
   ]
  },
  {
   "cell_type": "markdown",
   "metadata": {},
   "source": [
    "# Since KS test is so sensitive it doesn't give the results we want. \n",
    "# We reject the NULL hypothesis that two samples are same since we have low pvalue and high ks stat"
   ]
  },
  {
   "cell_type": "markdown",
   "metadata": {},
   "source": [
    "# Now lets do it seperatelly for winter and summer riders"
   ]
  },
  {
   "cell_type": "code",
   "execution_count": 27,
   "metadata": {
    "collapsed": false
   },
   "outputs": [],
   "source": [
    "df_W['age'] = 2015-df_W['birth year'][(df_W['usertype'] == 'Subscriber')]\n",
    "df_W['age'] = df_W['age'][~np.isnan(df_W['age'])]\n",
    "df_S['age'] = 2015-df_S['birth year'][(df_S['usertype'] == 'Subscriber')]\n",
    "df_S['age'] = df_W['age'][~np.isnan(df_S['age'])]"
   ]
  },
  {
   "cell_type": "code",
   "execution_count": 28,
   "metadata": {
    "collapsed": false
   },
   "outputs": [
    {
     "data": {
      "image/png": "[encoded data removed]",
      "text/plain": [
       "<matplotlib.figure.Figure at 0x47bc8d30>"
      ]
     },
     "metadata": {},
     "output_type": "display_data"
    },
    {
     "data": {
      "image/png": "[encoded data removed]",
      "text/plain": [
       "<matplotlib.figure.Figure at 0x4894beb8>"
      ]
     },
     "metadata": {},
     "output_type": "display_data"
    }
   ],
   "source": [
    "bins = np.arange(10, 99, 10)\n",
    "df_W.age.groupby(pd.cut(df_W.age, bins)).agg([count_nonzero]).plot(kind='bar', title=\"Winter\")\n",
    "W_age_dist = df_W.age.groupby(pd.cut(df_W.age, bins)).agg([count_nonzero])\n",
    "df_S.age.groupby(pd.cut(df_S.age, bins)).agg([count_nonzero]).plot(kind='bar', title=\"Summer\")\n",
    "S_age_dist = df_S.age.groupby(pd.cut(df_S.age, bins)).agg([count_nonzero])"
   ]
  },
  {
   "cell_type": "markdown",
   "metadata": {},
   "source": [
    "# I chose significane aplha as 0.05 or 5% for following Anderson Darling and Chisquare test"
   ]
  },
  {
   "cell_type": "markdown",
   "metadata": {},
   "source": [
    "# AD test for goodnes of fit"
   ]
  },
  {
   "cell_type": "code",
   "execution_count": 29,
   "metadata": {
    "collapsed": false
   },
   "outputs": [
    {
     "name": "stdout",
     "output_type": "stream",
     "text": [
      "Winter riders on normal AndersonResult(statistic=0.51257652802639697, critical_values=array([ 0.519,  0.591,  0.709,  0.827,  0.984]), significance_level=array([ 15. ,  10. ,   5. ,   2.5,   1. ]))\n",
      "Sumer riders on normal AndersonResult(statistic=0.51371224410583061, critical_values=array([ 0.519,  0.591,  0.709,  0.827,  0.984]), significance_level=array([ 15. ,  10. ,   5. ,   2.5,   1. ]))\n"
     ]
    }
   ],
   "source": [
    "ad_W = scipy.stats.anderson(W_age_dist['count_nonzero'],'norm')\n",
    "print \"Winter riders on normal\", ad_W\n",
    "ad_S = scipy.stats.anderson(S_age_dist['count_nonzero'], dist='norm')\n",
    "print \"Sumer riders on normal\", ad_S"
   ]
  },
  {
   "cell_type": "code",
   "execution_count": 32,
   "metadata": {
    "collapsed": false
   },
   "outputs": [
    {
     "name": "stdout",
     "output_type": "stream",
     "text": [
      "Winter riders on normal AD test statistics : 0.512576528026\n",
      "it is less than critical value at 5% significange level : 0.709\n",
      "Hence our winter ridership distribution follows normal/gausion distribution. We fail to reject NULL hypothesis\n",
      "--------------------------------------------\n",
      "Summer riders on normal AD test statistics : 0.513712244106\n",
      "it is less than critical value at 5% significange level : 0.709\n",
      "Hence our Summer ridership distribution follows normal/gausion distribution. We fail to reject NULL hypothesis\n"
     ]
    }
   ],
   "source": [
    "# Since we chosen alpha as 0.05\n",
    "# our critical value is\n",
    "print \"Winter riders on normal AD test statistics :\", ad_W[0]\n",
    "print \"it is less than critical value at 5% significange level :\", ad_W[1][2]\n",
    "print \"Hence our winter ridership distribution follows normal/gausion distribution. We fail to reject NULL hypothesis\"\n",
    "\n",
    "print \"--------------------------------------------\"\n",
    "\n",
    "print \"Summer riders on normal AD test statistics :\", ad_S[0]\n",
    "print \"it is less than critical value at 5% significange level :\", ad_S[1][2]\n",
    "print \"Hence our Summer ridership distribution follows normal/gausion distribution. We fail to reject NULL hypothesis\"\n"
   ]
  },
  {
   "cell_type": "markdown",
   "metadata": {},
   "source": [
    "# Shapiro-Wilk test"
   ]
  },
  {
   "cell_type": "code",
   "execution_count": 33,
   "metadata": {
    "collapsed": false
   },
   "outputs": [
    {
     "name": "stdout",
     "output_type": "stream",
     "text": [
      "Winter riders on normal (0.8605096936225891, 0.12148702889680862)\n",
      "Sumer riders on normal (0.8601701855659485, 0.12054465711116791)\n"
     ]
    }
   ],
   "source": [
    "sh_W = scipy.stats.shapiro(W_age_dist['count_nonzero'], a=None, reta=False)\n",
    "sh_S = scipy.stats.shapiro(S_age_dist['count_nonzero'], a=None, reta=False)\n",
    "\n",
    "print \"Winter riders on normal\", sh_W\n",
    "print \"Sumer riders on normal\", sh_S"
   ]
  },
  {
   "cell_type": "code",
   "execution_count": 34,
   "metadata": {
    "collapsed": false
   },
   "outputs": [
    {
     "name": "stdout",
     "output_type": "stream",
     "text": [
      "WInter riders on normal Shapiro test statistics' p value is:  12.1487028897 %\n",
      " P value is greater than 5%\n",
      "Hence our winter ridership distribution follows normal/gausion distribution. We fail to reject NULL hypothesis\n",
      "--------------------------------------------\n",
      "Sumer riders on normal Shapiro test statistics' p value is:  12.0544657111 %\n",
      " P value is greater than 5%\n",
      "Hence our Sumer ridership distribution follows normal/gausion distribution. We fail to reject NULL hypothesis\n"
     ]
    }
   ],
   "source": [
    "# Since we chosen alpha as 0.05 - 5%\n",
    "# our critical value is\n",
    "print \"WInter riders on normal Shapiro test statistics' p value is: \", sh_W[1]*100,\"%\"\n",
    "print \" P value is greater than 5%\"\n",
    "print \"Hence our winter ridership distribution follows normal/gausion distribution. We fail to reject NULL hypothesis\"\n",
    "\n",
    "print \"--------------------------------------------\"\n",
    "\n",
    "print \"Sumer riders on normal Shapiro test statistics' p value is: \", sh_S[1]*100,\"%\"\n",
    "print \" P value is greater than 5%\"\n",
    "print \"Hence our Sumer ridership distribution follows normal/gausion distribution. We fail to reject NULL hypothesis\""
   ]
  },
  {
   "cell_type": "markdown",
   "metadata": {},
   "source": [
    "# In both cases and both summer and winter we failed to reject NULL hypothesis of Anderson, Shapiro test. So winter and summer riders age distribution follows gaussion distribution according to the test."
   ]
  },
  {
   "cell_type": "markdown",
   "metadata": {},
   "source": [
    "# KS Test\n"
   ]
  },
  {
   "cell_type": "code",
   "execution_count": 35,
   "metadata": {
    "collapsed": false
   },
   "outputs": [
    {
     "name": "stdout",
     "output_type": "stream",
     "text": [
      "winter, normal fit KstestResult(statistic=1.0, pvalue=0.0)\n",
      "summer, normal fit KstestResult(statistic=1.0, pvalue=0.0)\n",
      "winter, normal fit KstestResult(statistic=0.99999880158020016, pvalue=0.0)\n",
      "summer, normal fit KstestResult(statistic=0.99999860603164392, pvalue=0.0)\n"
     ]
    }
   ],
   "source": [
    "#compare to normal\n",
    "\n",
    "ksW=scipy.stats.kstest(W_age_dist, 'norm')\n",
    "ksS=scipy.stats.kstest(S_age_dist, 'norm')\n",
    "print \"winter, normal fit\", ksW\n",
    "print \"summer, normal fit\", ksS\n",
    "\n",
    "#compare to poisson \n",
    "\n",
    "ksW=scipy.stats.kstest(W_age_dist, 'cauchy')\n",
    "ksS=scipy.stats.kstest(S_age_dist, 'cauchy')\n",
    "print \"winter, normal fit\", ksW\n",
    "print \"summer, normal fit\", ksS"
   ]
  },
  {
   "cell_type": "code",
   "execution_count": 36,
   "metadata": {
    "collapsed": false
   },
   "outputs": [
    {
     "name": "stdout",
     "output_type": "stream",
     "text": [
      "winter, normal fit KstestResult(statistic=1.0, pvalue=0.0)\n",
      "summer, normal fit KstestResult(statistic=1.0, pvalue=0.0)\n"
     ]
    }
   ],
   "source": [
    "ksW=scipy.stats.kstest(W_age_dist, 'gamma', args=(35,))\n",
    "ksS=scipy.stats.kstest(S_age_dist, 'gamma', args=(35,))\n",
    "\n",
    "print \"winter, normal fit\", ksW\n",
    "print \"summer, normal fit\", ksS"
   ]
  },
  {
   "cell_type": "code",
   "execution_count": 37,
   "metadata": {
    "collapsed": true
   },
   "outputs": [],
   "source": [
    "def mydistribution(size, m0, m1):\n",
    "    #this is a crazy dumb function, but i am trying to make a point here...\n",
    "    return (np.empty_like(size)+1) * m0 **2"
   ]
  },
  {
   "cell_type": "code",
   "execution_count": 38,
   "metadata": {
    "collapsed": false
   },
   "outputs": [
    {
     "name": "stdout",
     "output_type": "stream",
     "text": [
      "winter, normal fit KstestResult(statistic=279727525.0, pvalue=nan)\n",
      "summer, normal fit KstestResult(statistic=325371025.0, pvalue=nan)\n"
     ]
    }
   ],
   "source": [
    "ksW=scipy.stats.kstest(W_age_dist, mydistribution, args=(35,38))\n",
    "ksS=scipy.stats.kstest(S_age_dist, mydistribution, args=(35,38))\n",
    "\n",
    "print \"winter, normal fit\", ksW\n",
    "print \"summer, normal fit\", ksS"
   ]
  },
  {
   "cell_type": "markdown",
   "metadata": {},
   "source": [
    "# Since KS test is so sensitive it doesn't give the results we want. \n",
    "# We reject the NULL hypothesis that two samples are same since we have low pvalue and high ks stat"
   ]
  },
  {
   "cell_type": "markdown",
   "metadata": {
    "collapsed": true
   },
   "source": [
    "# I did not see any significant difference between winter and summer riders according to my tests."
   ]
  },
  {
   "cell_type": "code",
   "execution_count": null,
   "metadata": {
    "collapsed": true
   },
   "outputs": [],
   "source": []
  }
 ],
 "metadata": {
  "kernelspec": {
   "display_name": "Python 2",
   "language": "python",
   "name": "python2"
  },
  "language_info": {
   "codemirror_mode": {
    "name": "ipython",
    "version": 2
   },
   "file_extension": ".py",
   "mimetype": "text/x-python",
   "name": "python",
   "nbconvert_exporter": "python",
   "pygments_lexer": "ipython2",
   "version": "2.7.10"
  }
 },
 "nbformat": 4,
 "nbformat_minor": 0
}
