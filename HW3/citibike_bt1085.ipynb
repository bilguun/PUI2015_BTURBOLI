{
 "cells": [
  {
   "cell_type": "code",
   "execution_count": 1,
   "metadata": {
    "collapsed": false
   },
   "outputs": [
    {
     "name": "stdout",
     "output_type": "stream",
     "text": [
      "Populating the interactive namespace from numpy and matplotlib\n"
     ]
    }
   ],
   "source": [
    "import pylab as pl\n",
    "import pandas as pd\n",
    "import numpy as np\n",
    "%pylab inline\n",
    "\n",
    "from scipy.stats import ttest_ind\n",
    "\n",
    "import os"
   ]
  },
  {
   "cell_type": "markdown",
   "metadata": {},
   "source": [
    "# Idea is subscribers ride shorter duration than customers\n",
    "\n",
    "## $H_0 : \\mu_s - \\mu_c > 0$\n",
    "## $H_a : \\mu_s - \\mu_c < 0$\n",
    "\n",
    "## at $\\alpha = 0.05$ significance level,\n",
    "### where $\\mu_s$ mean tripduration for subscribers,  $\\mu_c$ mean tripduration for customers\n",
    "\n",
    "## One sided t test is used to test the hypothesis"
   ]
  },
  {
   "cell_type": "code",
   "execution_count": 18,
   "metadata": {
    "collapsed": false
   },
   "outputs": [],
   "source": [
    "cb = pd.read_csv('201502-citibike-tripdata.csv')"
   ]
  },
  {
   "cell_type": "code",
   "execution_count": 19,
   "metadata": {
    "collapsed": true
   },
   "outputs": [],
   "source": [
    "cb['tripMinutes'] = cb.tripduration.div(60)"
   ]
  },
  {
   "cell_type": "code",
   "execution_count": 19,
   "metadata": {
    "collapsed": false
   },
   "outputs": [],
   "source": [
    "# cb.describe()"
   ]
  },
  {
   "cell_type": "code",
   "execution_count": 20,
   "metadata": {
    "collapsed": false
   },
   "outputs": [],
   "source": [
    "subs = cb[(cb['usertype'] == 'Subscriber')]\n",
    "cust = cb[(cb['usertype'] == 'Customer')]\n"
   ]
  },
  {
   "cell_type": "code",
   "execution_count": null,
   "metadata": {
    "collapsed": false
   },
   "outputs": [],
   "source": [
    "#bins = np.arange(60, 10000, 100)\n",
    "#subs.tripduration.groupby(pd.cut(subs.tripduration, bins)).agg([count_nonzero]).plot(kind='bar')\n",
    "#cust.tripduration.groupby(pd.cut(cust.tripduration, bins)).agg([count_nonzero]).plot(kind='bar')"
   ]
  },
  {
   "cell_type": "code",
   "execution_count": 21,
   "metadata": {
    "collapsed": false
   },
   "outputs": [
    {
     "name": "stdout",
     "output_type": "stream",
     "text": [
      "count    194665.000000\n",
      "mean         10.662285\n",
      "std          14.106582\n",
      "min           1.000000\n",
      "25%           5.650000\n",
      "50%           8.400000\n",
      "75%          12.616667\n",
      "max         716.933333\n",
      "Name: tripMinutes, dtype: float64\n",
      "count    2265.000000\n",
      "mean       24.640309\n",
      "std        33.480046\n",
      "min         1.033333\n",
      "25%         9.950000\n",
      "50%        17.866667\n",
      "75%        27.933333\n",
      "max       587.516667\n",
      "Name: tripMinutes, dtype: float64\n"
     ]
    }
   ],
   "source": [
    "print subs.tripMinutes.describe()\n",
    "print cust.tripMinutes.describe()"
   ]
  },
  {
   "cell_type": "code",
   "execution_count": 22,
   "metadata": {
    "collapsed": false
   },
   "outputs": [
    {
     "name": "stdout",
     "output_type": "stream",
     "text": [
      "0.704206497147\n"
     ]
    }
   ],
   "source": [
    "standartError = sqrt((subs.tripMinutes.std()**2/subs.tripMinutes.count()) + (cust.tripMinutes.std()**2/cust.tripMinutes.count()))\n",
    "print standartError"
   ]
  },
  {
   "cell_type": "markdown",
   "metadata": {},
   "source": [
    "DF = (s12/n1 + s22/n2)2 / { [ (s12 / n1)2 / (n1 - 1) ] + [ (s22 / n2)2 / (n2 - 1) ] } "
   ]
  },
  {
   "cell_type": "code",
   "execution_count": 23,
   "metadata": {
    "collapsed": false
   },
   "outputs": [],
   "source": [
    "DF = standartError**4 / ( ((subs.tripMinutes.std()**2 / subs.tripMinutes.count())**2 / (subs.tripMinutes.count() - 1) ) + ((cust.tripMinutes.std()**2/cust.tripMinutes.count())**2 / (cust.tripMinutes.count() - 1) ) )"
   ]
  },
  {
   "cell_type": "code",
   "execution_count": 24,
   "metadata": {
    "collapsed": false
   },
   "outputs": [
    {
     "name": "stdout",
     "output_type": "stream",
     "text": [
      "2273.36270463\n"
     ]
    }
   ],
   "source": [
    "print DF"
   ]
  },
  {
   "cell_type": "code",
   "execution_count": 25,
   "metadata": {
    "collapsed": false
   },
   "outputs": [],
   "source": [
    "t = (subs.tripMinutes.mean() - cust.tripMinutes.mean()) / standartError"
   ]
  },
  {
   "cell_type": "code",
   "execution_count": 26,
   "metadata": {
    "collapsed": false
   },
   "outputs": [
    {
     "name": "stdout",
     "output_type": "stream",
     "text": [
      "-19.8493262764\n"
     ]
    }
   ],
   "source": [
    "print t"
   ]
  },
  {
   "cell_type": "markdown",
   "metadata": {},
   "source": [
    "## we reject the null hypothesis"
   ]
  },
  {
   "cell_type": "code",
   "execution_count": 27,
   "metadata": {
    "collapsed": false
   },
   "outputs": [],
   "source": [
    "t, p = ttest_ind(subs.tripMinutes, cust.tripMinutes, equal_var=False)"
   ]
  },
  {
   "cell_type": "code",
   "execution_count": 28,
   "metadata": {
    "collapsed": false
   },
   "outputs": [
    {
     "name": "stdout",
     "output_type": "stream",
     "text": [
      "-19.8493262764 5.46627002525e-81\n"
     ]
    }
   ],
   "source": [
    "print t,p"
   ]
  },
  {
   "cell_type": "markdown",
   "metadata": {},
   "source": [
    "# Since we rejected $H_0$ \n",
    "\n",
    "## $H_a : \\mu_s - \\mu_c < 0$  is true\n",
    "\n",
    "## Customers mean tripduration is longer than subsribers mean tripduration at $\\alpha = 0.05$ significance level"
   ]
  },
  {
   "cell_type": "code",
   "execution_count": null,
   "metadata": {
    "collapsed": true
   },
   "outputs": [],
   "source": []
  }
 ],
 "metadata": {
  "kernelspec": {
   "display_name": "Python 2",
   "language": "python",
   "name": "python2"
  },
  "language_info": {
   "codemirror_mode": {
    "name": "ipython",
    "version": 2
   },
   "file_extension": ".py",
   "mimetype": "text/x-python",
   "name": "python",
   "nbconvert_exporter": "python",
   "pygments_lexer": "ipython2",
   "version": "2.7.6"
  }
 },
 "nbformat": 4,
 "nbformat_minor": 0
}
